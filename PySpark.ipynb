{
  "nbformat": 4,
  "nbformat_minor": 0,
  "metadata": {
    "colab": {
      "provenance": [],
      "collapsed_sections": [
        "EjRPULT2t1Tk",
        "wW4VvjHafXY8",
        "PHg-lvkhzhN4"
      ],
      "authorship_tag": "ABX9TyMm0xlgOXTbYe5nBDOWC9MR",
      "include_colab_link": true
    },
    "kernelspec": {
      "name": "python3",
      "display_name": "Python 3"
    },
    "language_info": {
      "name": "python"
    }
  },
  "cells": [
    {
      "cell_type": "markdown",
      "metadata": {
        "id": "view-in-github",
        "colab_type": "text"
      },
      "source": [
        "<a href=\"https://colab.research.google.com/github/sabbah128/PySpark_Colab/blob/main/PySpark.ipynb\" target=\"_parent\"><img src=\"https://colab.research.google.com/assets/colab-badge.svg\" alt=\"Open In Colab\"/></a>"
      ]
    },
    {
      "cell_type": "code",
      "source": [
        "!pip install pyspark"
      ],
      "metadata": {
        "colab": {
          "base_uri": "https://localhost:8080/"
        },
        "id": "4ZYz8A81Umlb",
        "outputId": "d1addb9e-1344-46d0-f360-67ad4fcd2853"
      },
      "execution_count": 1,
      "outputs": [
        {
          "output_type": "stream",
          "name": "stdout",
          "text": [
            "Collecting pyspark\n",
            "  Downloading pyspark-3.5.1.tar.gz (317.0 MB)\n",
            "\u001b[2K     \u001b[90m━━━━━━━━━━━━━━━━━━━━━━━━━━━━━━━━━━━━━━━━\u001b[0m \u001b[32m317.0/317.0 MB\u001b[0m \u001b[31m3.4 MB/s\u001b[0m eta \u001b[36m0:00:00\u001b[0m\n",
            "\u001b[?25h  Preparing metadata (setup.py) ... \u001b[?25l\u001b[?25hdone\n",
            "Requirement already satisfied: py4j==0.10.9.7 in /usr/local/lib/python3.10/dist-packages (from pyspark) (0.10.9.7)\n",
            "Building wheels for collected packages: pyspark\n",
            "  Building wheel for pyspark (setup.py) ... \u001b[?25l\u001b[?25hdone\n",
            "  Created wheel for pyspark: filename=pyspark-3.5.1-py2.py3-none-any.whl size=317488491 sha256=6fd5349b9a9a29773d1e990950057d10640902c6ce5afedf26e2931d756e4bdd\n",
            "  Stored in directory: /root/.cache/pip/wheels/80/1d/60/2c256ed38dddce2fdd93be545214a63e02fbd8d74fb0b7f3a6\n",
            "Successfully built pyspark\n",
            "Installing collected packages: pyspark\n",
            "Successfully installed pyspark-3.5.1\n"
          ]
        }
      ]
    },
    {
      "cell_type": "markdown",
      "source": [
        "## Count Words"
      ],
      "metadata": {
        "id": "EjRPULT2t1Tk"
      }
    },
    {
      "cell_type": "code",
      "execution_count": null,
      "metadata": {
        "id": "-vJfaCO47tZv",
        "colab": {
          "base_uri": "https://localhost:8080/",
          "height": 219
        },
        "outputId": "df33f048-976f-45d0-a2fa-b35eaeaffb6d"
      },
      "outputs": [
        {
          "output_type": "execute_result",
          "data": {
            "text/plain": [
              "<pyspark.sql.session.SparkSession at 0x7ddfc172d6c0>"
            ],
            "text/html": [
              "\n",
              "            <div>\n",
              "                <p><b>SparkSession - in-memory</b></p>\n",
              "                \n",
              "        <div>\n",
              "            <p><b>SparkContext</b></p>\n",
              "\n",
              "            <p><a href=\"http://600c8be68b68:4040\">Spark UI</a></p>\n",
              "\n",
              "            <dl>\n",
              "              <dt>Version</dt>\n",
              "                <dd><code>v3.5.1</code></dd>\n",
              "              <dt>Master</dt>\n",
              "                <dd><code>local[*]</code></dd>\n",
              "              <dt>AppName</dt>\n",
              "                <dd><code>Kian_Spark</code></dd>\n",
              "            </dl>\n",
              "        </div>\n",
              "        \n",
              "            </div>\n",
              "        "
            ]
          },
          "metadata": {},
          "execution_count": 2
        }
      ],
      "source": [
        "from pyspark.sql import SparkSession\n",
        "\n",
        "\n",
        "spark = SparkSession.builder.appName(\"Kian_Spark\").getOrCreate()\n",
        "spark"
      ]
    },
    {
      "cell_type": "code",
      "source": [
        "dir(spark.read)"
      ],
      "metadata": {
        "id": "YPdIKAk37mDh"
      },
      "execution_count": null,
      "outputs": []
    },
    {
      "cell_type": "code",
      "source": [
        "txt = spark.read.text('/content/test_pyspark.txt')\n",
        "txt.printSchema()\n",
        "txt.show(5, truncate=50)"
      ],
      "metadata": {
        "colab": {
          "base_uri": "https://localhost:8080/"
        },
        "id": "HTlIyhoh72Oi",
        "outputId": "77f30632-dc5c-4ffb-e4b0-0006e0df4956"
      },
      "execution_count": null,
      "outputs": [
        {
          "output_type": "stream",
          "name": "stdout",
          "text": [
            "root\n",
            " |-- value: string (nullable = true)\n",
            "\n",
            "+--------------------------------------------------+\n",
            "|                                             value|\n",
            "+--------------------------------------------------+\n",
            "|Machine learning diagnosis of active Juvenile I...|\n",
            "|                                                  |\n",
            "|                                                  |\n",
            "|                                                  |\n",
            "|                                   ARTICLEINFO\\t\\t|\n",
            "+--------------------------------------------------+\n",
            "only showing top 5 rows\n",
            "\n"
          ]
        }
      ]
    },
    {
      "cell_type": "code",
      "source": [
        "from pyspark.sql.functions import split, col\n",
        "\n",
        "\n",
        "lines_split = txt.select(split(col('value'), \" \").alias(\"split_value\"))\n",
        "lines_split.printSchema()\n",
        "lines_split.show(10, truncate=70)"
      ],
      "metadata": {
        "id": "BmCI1P5hAF0l",
        "colab": {
          "base_uri": "https://localhost:8080/"
        },
        "outputId": "0407bf35-2294-42ff-aefd-c3e69021550a"
      },
      "execution_count": null,
      "outputs": [
        {
          "output_type": "stream",
          "name": "stdout",
          "text": [
            "root\n",
            " |-- split_value: array (nullable = true)\n",
            " |    |-- element: string (containsNull = false)\n",
            "\n",
            "+----------------------------------------------------------------------+\n",
            "|                                                           split_value|\n",
            "+----------------------------------------------------------------------+\n",
            "|[Machine, learning, diagnosis, of, active, Juvenile, Idiopathic, Ar...|\n",
            "|                                                                    []|\n",
            "|                                                                    []|\n",
            "|                                                                    []|\n",
            "|                                                     [ARTICLEINFO\\t\\t]|\n",
            "|                                                            [ABSTRACT]|\n",
            "|                                                                    []|\n",
            "|                                                           [Keywords:]|\n",
            "|                                    [Convolutional, Neural, Network, ]|\n",
            "|                                                      [Deep, Learning]|\n",
            "+----------------------------------------------------------------------+\n",
            "only showing top 10 rows\n",
            "\n"
          ]
        }
      ]
    },
    {
      "cell_type": "code",
      "source": [
        "# from pyspark.sql.functions import col, size\n",
        "\n",
        "\n",
        "# (lines_split.select(size(col(\"split_value\"))\n",
        "#                     .alias(\"length\"))\n",
        "#                     .groupby(\"length\")\n",
        "#                     .count()).orderBy(col(\"count\").desc()).show()"
      ],
      "metadata": {
        "id": "95hFE_an5Hzs"
      },
      "execution_count": null,
      "outputs": []
    },
    {
      "cell_type": "code",
      "source": [
        "import  pyspark.sql.functions as F\n",
        "\n",
        "\n",
        "explode_words = lines_split.select(F.explode(F.col(\"split_value\")).alias(\"word\"))\n",
        "explode_words.printSchema()\n",
        "explode_words.show(20)"
      ],
      "metadata": {
        "colab": {
          "base_uri": "https://localhost:8080/"
        },
        "id": "1r-t1syKG9IK",
        "outputId": "54deb07c-6948-4b8c-bc86-8eb97205d0d3"
      },
      "execution_count": null,
      "outputs": [
        {
          "output_type": "stream",
          "name": "stdout",
          "text": [
            "root\n",
            " |-- word: string (nullable = false)\n",
            "\n",
            "+---------------+\n",
            "|           word|\n",
            "+---------------+\n",
            "|        Machine|\n",
            "|       learning|\n",
            "|      diagnosis|\n",
            "|             of|\n",
            "|         active|\n",
            "|       Juvenile|\n",
            "|     Idiopathic|\n",
            "|      Arthritis|\n",
            "|             on|\n",
            "|          blood|\n",
            "|           pool|\n",
            "|           [99M|\n",
            "|            Tc]|\n",
            "|         Tc-MDP|\n",
            "|   scintigraphy|\n",
            "|        images.|\n",
            "|               |\n",
            "|               |\n",
            "|               |\n",
            "|ARTICLEINFO\\t\\t|\n",
            "+---------------+\n",
            "only showing top 20 rows\n",
            "\n"
          ]
        }
      ]
    },
    {
      "cell_type": "code",
      "source": [
        "from pyspark.sql.functions import lower, col\n",
        "\n",
        "\n",
        "word_lowers = explode_words.select(lower(col(\"word\")).alias(\"word_lower\")).filter(col(\"word_lower\") != \"\")\n",
        "word_lowers.show()"
      ],
      "metadata": {
        "colab": {
          "base_uri": "https://localhost:8080/"
        },
        "id": "4PYHoohNuje0",
        "outputId": "c4823d5c-cb9a-46d7-be3d-2f69ce162041"
      },
      "execution_count": null,
      "outputs": [
        {
          "output_type": "stream",
          "name": "stdout",
          "text": [
            "+---------------+\n",
            "|     word_lower|\n",
            "+---------------+\n",
            "|        machine|\n",
            "|       learning|\n",
            "|      diagnosis|\n",
            "|             of|\n",
            "|         active|\n",
            "|       juvenile|\n",
            "|     idiopathic|\n",
            "|      arthritis|\n",
            "|             on|\n",
            "|          blood|\n",
            "|           pool|\n",
            "|           [99m|\n",
            "|            tc]|\n",
            "|         tc-mdp|\n",
            "|   scintigraphy|\n",
            "|        images.|\n",
            "|articleinfo\\t\\t|\n",
            "|       abstract|\n",
            "|      keywords:|\n",
            "|  convolutional|\n",
            "+---------------+\n",
            "only showing top 20 rows\n",
            "\n"
          ]
        }
      ]
    },
    {
      "cell_type": "code",
      "source": [
        "from pyspark.sql.functions import regexp_extract, col\n",
        "\n",
        "\n",
        "words_regexp = word_lowers.select(regexp_extract(col(\"word_lower\"), \"[a-z0-9_-]+\", 0).alias(\"word_regexp\"))\n",
        "words_regexp.printSchema()\n",
        "words_regexp.show(20)"
      ],
      "metadata": {
        "id": "TqsRXW2hv4GP",
        "colab": {
          "base_uri": "https://localhost:8080/"
        },
        "outputId": "64ffcc13-4006-4619-e85a-9a682ae0d9df"
      },
      "execution_count": null,
      "outputs": [
        {
          "output_type": "stream",
          "name": "stdout",
          "text": [
            "root\n",
            " |-- word_regexp: string (nullable = false)\n",
            "\n",
            "+-------------+\n",
            "|  word_regexp|\n",
            "+-------------+\n",
            "|      machine|\n",
            "|     learning|\n",
            "|    diagnosis|\n",
            "|           of|\n",
            "|       active|\n",
            "|     juvenile|\n",
            "|   idiopathic|\n",
            "|    arthritis|\n",
            "|           on|\n",
            "|        blood|\n",
            "|         pool|\n",
            "|          99m|\n",
            "|           tc|\n",
            "|       tc-mdp|\n",
            "| scintigraphy|\n",
            "|       images|\n",
            "|  articleinfo|\n",
            "|     abstract|\n",
            "|     keywords|\n",
            "|convolutional|\n",
            "+-------------+\n",
            "only showing top 20 rows\n",
            "\n"
          ]
        }
      ]
    },
    {
      "cell_type": "code",
      "source": [
        "results = (words_regexp.groupby(col(\"word_regexp\")).count()).orderBy(col(\"count\").desc())\n",
        "# results = results.orderBy(col(\"count\").desc())\n",
        "results.write.csv('simple_count.csv', header=True)\n",
        "results.show(10)"
      ],
      "metadata": {
        "colab": {
          "base_uri": "https://localhost:8080/"
        },
        "id": "NbCbFqmUwqJ1",
        "outputId": "c0b9b47e-8a48-4bc7-bda9-814962e3d757"
      },
      "execution_count": null,
      "outputs": [
        {
          "output_type": "stream",
          "name": "stdout",
          "text": [
            "+-----------+-----+\n",
            "|word_regexp|count|\n",
            "+-----------+-----+\n",
            "|        and|  100|\n",
            "|        the|   94|\n",
            "|         of|   77|\n",
            "|         in|   75|\n",
            "|         to|   34|\n",
            "|        for|   32|\n",
            "|      model|   24|\n",
            "|          a|   24|\n",
            "|     images|   22|\n",
            "|      ankle|   21|\n",
            "+-----------+-----+\n",
            "only showing top 10 rows\n",
            "\n"
          ]
        }
      ]
    },
    {
      "cell_type": "code",
      "source": [
        "num_count = results.groupBy(col('count')).count().toDF(*[\"num_word\", \"count\"]).orderBy(col('count').desc())\n",
        "\n",
        "num_count.write.csv('renamed_num_count.csv', header=True)\n",
        "num_count.show(10)"
      ],
      "metadata": {
        "colab": {
          "base_uri": "https://localhost:8080/"
        },
        "id": "0HEbeHTZsR9V",
        "outputId": "0680eb11-4d97-413b-fd9f-817def243ea9"
      },
      "execution_count": null,
      "outputs": [
        {
          "output_type": "stream",
          "name": "stdout",
          "text": [
            "+--------+-----+\n",
            "|num_word|count|\n",
            "+--------+-----+\n",
            "|       1|  569|\n",
            "|       2|  116|\n",
            "|       3|   57|\n",
            "|       4|   26|\n",
            "|       5|   21|\n",
            "|       6|   15|\n",
            "|       8|   14|\n",
            "|       7|   14|\n",
            "|      10|    7|\n",
            "|      11|    5|\n",
            "+--------+-----+\n",
            "only showing top 10 rows\n",
            "\n"
          ]
        }
      ]
    },
    {
      "cell_type": "markdown",
      "source": [
        "## Count words all together"
      ],
      "metadata": {
        "id": "wW4VvjHafXY8"
      }
    },
    {
      "cell_type": "code",
      "source": [
        "from pyspark.sql import SparkSession\n",
        "import pyspark.sql.functions as F\n",
        "\n",
        "\n",
        "spark = SparkSession.builder.appName(\"Kian_Spark\").getOrCreate()\n",
        "\n",
        "results = (\n",
        "    spark.read.text(\"/content/test_pyspark.txt\")\n",
        "    .select(F.explode(F.split(F.lower(F.col(\"value\")), \" \")).alias(\"word\"))\n",
        "    .select(F.regexp_replace(F.col(\"word\"), \"[^a-z_-]\", \"\").alias(\"word\"))\n",
        "    .where(F.col(\"word\") != \"\")\n",
        "    .groupby(\"word\")\n",
        "    .count()\n",
        "    .orderBy(F.col(\"count\").desc())\n",
        "    .write.csv('word_coun1000t.csv', header=True)\n",
        ")"
      ],
      "metadata": {
        "id": "kR-_W4gU71l-"
      },
      "execution_count": null,
      "outputs": []
    },
    {
      "cell_type": "markdown",
      "source": [
        "## Exercises"
      ],
      "metadata": {
        "id": "PHg-lvkhzhN4"
      }
    },
    {
      "cell_type": "code",
      "source": [
        "from pyspark.sql.functions import col, length\n",
        "\n",
        "\n",
        "# The `length` function returns the number of characters in a string column.\n",
        "exo2_3_df = (spark.read.text(\"/content/README.md\")\n",
        "                            .select(length(col(\"value\")).alias(\"number_of_char\"))).show(10)\n",
        "                            # .select(col(\"value\").alias(\"number_of_char\")))\n",
        "                            # .withColumnRenamed(\"length(value)\", \"number_of_char\"))\n"
      ],
      "metadata": {
        "colab": {
          "base_uri": "https://localhost:8080/"
        },
        "id": "6D8OUoKTKEnO",
        "outputId": "e45bc528-0b7d-444e-94fb-972052c845ca"
      },
      "execution_count": null,
      "outputs": [
        {
          "output_type": "stream",
          "name": "stdout",
          "text": [
            "+--------------+\n",
            "|number_of_char|\n",
            "+--------------+\n",
            "|            14|\n",
            "|             0|\n",
            "|            80|\n",
            "|            75|\n",
            "|            73|\n",
            "|            74|\n",
            "|            98|\n",
            "|            47|\n",
            "|             0|\n",
            "|            27|\n",
            "+--------------+\n",
            "only showing top 10 rows\n",
            "\n"
          ]
        }
      ]
    },
    {
      "cell_type": "code",
      "source": [
        "from pyspark.sql.functions import col, greatest\n",
        "from pyspark.errors import AnalysisException\n",
        "\n",
        "\n",
        "exo2_4_df = spark.createDataFrame([[\"key\", 10_000, 20_000]], [\"key\", \"value1\", \"value2\"])\n",
        "exo2_4_df.printSchema()\n",
        "\n",
        "try:\n",
        "    exo2_4_mod = exo2_4_df.select(greatest(col(\"value1\"), col(\"value2\")).alias(\"max_value\")).show()\n",
        "except AnalysisException as err:\n",
        "    print('Exception Error!')"
      ],
      "metadata": {
        "colab": {
          "base_uri": "https://localhost:8080/"
        },
        "id": "Nmjf2a7INFIZ",
        "outputId": "9ce6dcd1-51a0-4741-f129-f5cd04536701"
      },
      "execution_count": null,
      "outputs": [
        {
          "output_type": "stream",
          "name": "stdout",
          "text": [
            "root\n",
            " |-- key: string (nullable = true)\n",
            " |-- value1: long (nullable = true)\n",
            " |-- value2: long (nullable = true)\n",
            "\n",
            "+---------+\n",
            "|max_value|\n",
            "+---------+\n",
            "|    20000|\n",
            "+---------+\n",
            "\n"
          ]
        }
      ]
    },
    {
      "cell_type": "code",
      "source": [
        "# Learn coding\n",
        "LETTERS = slice (0, 2)\n",
        "NUMS = slice (2, 6)\n",
        "CITY = slice (6, None)\n",
        "\n",
        "code_1 = 'LH1234 BLN'\n",
        "code_2 = 'LH5678 MUC'\n",
        "\n",
        "print(code_1[LETTERS], code_1[NUMS], code_1[CITY])\n",
        "print(code_2[LETTERS], code_2[NUMS], code_2[CITY])"
      ],
      "metadata": {
        "colab": {
          "base_uri": "https://localhost:8080/"
        },
        "id": "U_nqWIWB6ZtX",
        "outputId": "529a108b-375f-4f8d-d280-f9cee745fbc1"
      },
      "execution_count": null,
      "outputs": [
        {
          "output_type": "stream",
          "name": "stdout",
          "text": [
            "LH 1234  BLN\n",
            "LH 5678  MUC\n"
          ]
        }
      ]
    },
    {
      "cell_type": "markdown",
      "source": [
        "## Tabular Data"
      ],
      "metadata": {
        "id": "29g37HGCt6d6"
      }
    },
    {
      "cell_type": "code",
      "source": [
        "!wget https://applications.crtc.gc.ca/OpenData/Television%20Logs/BroadcastLogs_2017_Q4_M10.CSV"
      ],
      "metadata": {
        "colab": {
          "base_uri": "https://localhost:8080/"
        },
        "id": "Q1isg5ept-ba",
        "outputId": "c66b5069-410a-4a79-82fd-98088737cb41"
      },
      "execution_count": null,
      "outputs": [
        {
          "output_type": "stream",
          "name": "stdout",
          "text": [
            "--2024-03-23 10:45:40--  https://applications.crtc.gc.ca/OpenData/Television%20Logs/BroadcastLogs_2017_Q4_M10.CSV\n",
            "Resolving applications.crtc.gc.ca (applications.crtc.gc.ca)... 198.103.61.42\n",
            "Connecting to applications.crtc.gc.ca (applications.crtc.gc.ca)|198.103.61.42|:443... connected.\n",
            "HTTP request sent, awaiting response... 200 OK\n",
            "Length: 1037439024 (989M) [application/octet-stream]\n",
            "Saving to: ‘BroadcastLogs_2017_Q4_M10.CSV’\n",
            "\n",
            "BroadcastLogs_2017_ 100%[===================>] 989.38M  32.0MB/s    in 33s     \n",
            "\n",
            "2024-03-23 10:46:14 (30.1 MB/s) - ‘BroadcastLogs_2017_Q4_M10.CSV’ saved [1037439024/1037439024]\n",
            "\n"
          ]
        }
      ]
    },
    {
      "cell_type": "code",
      "source": [
        "from pyspark.sql import SparkSession\n",
        "\n",
        "\n",
        "spark = SparkSession.builder.appName(\"Kian_Spark\").getOrCreate()\n",
        "spark"
      ],
      "metadata": {
        "colab": {
          "base_uri": "https://localhost:8080/",
          "height": 219
        },
        "id": "E0CXnXwV7EIu",
        "outputId": "91e4c6b9-5ee3-4b70-8ec7-340ac316c9b0"
      },
      "execution_count": null,
      "outputs": [
        {
          "output_type": "execute_result",
          "data": {
            "text/plain": [
              "<pyspark.sql.session.SparkSession at 0x7c23cefd19c0>"
            ],
            "text/html": [
              "\n",
              "            <div>\n",
              "                <p><b>SparkSession - in-memory</b></p>\n",
              "                \n",
              "        <div>\n",
              "            <p><b>SparkContext</b></p>\n",
              "\n",
              "            <p><a href=\"http://31829eb37623:4040\">Spark UI</a></p>\n",
              "\n",
              "            <dl>\n",
              "              <dt>Version</dt>\n",
              "                <dd><code>v3.5.1</code></dd>\n",
              "              <dt>Master</dt>\n",
              "                <dd><code>local[*]</code></dd>\n",
              "              <dt>AppName</dt>\n",
              "                <dd><code>Kian_Spark</code></dd>\n",
              "            </dl>\n",
              "        </div>\n",
              "        \n",
              "            </div>\n",
              "        "
            ]
          },
          "metadata": {},
          "execution_count": 5
        }
      ]
    },
    {
      "cell_type": "code",
      "source": [
        "logs = spark.read.csv(('/content/BroadcastLogs_2017_Q4_M10.CSV'),\n",
        "sep=\"|\",\n",
        "header=True,\n",
        "inferSchema=True,\n",
        "timestampFormat=\"yyyy-MM-dd\",\n",
        ")\n",
        "\n",
        "logs.printSchema()\n",
        "logs.show(5)"
      ],
      "metadata": {
        "id": "-njt9hjNwd-N",
        "colab": {
          "base_uri": "https://localhost:8080/"
        },
        "outputId": "76493646-9b4f-41c2-903c-858fe7211cef"
      },
      "execution_count": null,
      "outputs": [
        {
          "output_type": "stream",
          "name": "stdout",
          "text": [
            "root\n",
            " |-- BroadcastLogID: integer (nullable = true)\n",
            " |-- LogServiceID: integer (nullable = true)\n",
            " |-- LogDate: date (nullable = true)\n",
            " |-- SequenceNO: integer (nullable = true)\n",
            " |-- AudienceTargetAgeID: integer (nullable = true)\n",
            " |-- AudienceTargetEthnicID: integer (nullable = true)\n",
            " |-- CategoryID: integer (nullable = true)\n",
            " |-- ClosedCaptionID: integer (nullable = true)\n",
            " |-- CountryOfOriginID: integer (nullable = true)\n",
            " |-- DubDramaCreditID: integer (nullable = true)\n",
            " |-- EthnicProgramID: integer (nullable = true)\n",
            " |-- ProductionSourceID: integer (nullable = true)\n",
            " |-- ProgramClassID: integer (nullable = true)\n",
            " |-- FilmClassificationID: integer (nullable = true)\n",
            " |-- ExhibitionID: integer (nullable = true)\n",
            " |-- Duration: string (nullable = true)\n",
            " |-- EndTime: string (nullable = true)\n",
            " |-- LogEntryDate: date (nullable = true)\n",
            " |-- ProductionNO: string (nullable = true)\n",
            " |-- ProgramTitle: string (nullable = true)\n",
            " |-- StartTime: string (nullable = true)\n",
            " |-- Subtitle: string (nullable = true)\n",
            " |-- NetworkAffiliationID: integer (nullable = true)\n",
            " |-- SpecialAttentionID: integer (nullable = true)\n",
            " |-- BroadcastOriginPointID: integer (nullable = true)\n",
            " |-- CompositionID: integer (nullable = true)\n",
            " |-- Producer1: string (nullable = true)\n",
            " |-- Producer2: string (nullable = true)\n",
            " |-- Language1: integer (nullable = true)\n",
            " |-- Language2: integer (nullable = true)\n",
            "\n",
            "+--------------+------------+----------+----------+-------------------+----------------------+----------+---------------+-----------------+----------------+---------------+------------------+--------------+--------------------+------------+----------------+----------------+------------+------------+--------------------+----------------+--------+--------------------+------------------+----------------------+-------------+---------+---------+---------+---------+\n",
            "|BroadcastLogID|LogServiceID|   LogDate|SequenceNO|AudienceTargetAgeID|AudienceTargetEthnicID|CategoryID|ClosedCaptionID|CountryOfOriginID|DubDramaCreditID|EthnicProgramID|ProductionSourceID|ProgramClassID|FilmClassificationID|ExhibitionID|        Duration|         EndTime|LogEntryDate|ProductionNO|        ProgramTitle|       StartTime|Subtitle|NetworkAffiliationID|SpecialAttentionID|BroadcastOriginPointID|CompositionID|Producer1|Producer2|Language1|Language2|\n",
            "+--------------+------------+----------+----------+-------------------+----------------------+----------+---------------+-----------------+----------------+---------------+------------------+--------------+--------------------+------------+----------------+----------------+------------+------------+--------------------+----------------+--------+--------------------+------------------+----------------------+-------------+---------+---------+---------+---------+\n",
            "|     989604515|        3157|2017-10-01|         1|                  4|                  NULL|        13|              1|                3|            NULL|           NULL|                10|            19|                NULL|           2|02:00:02.0000000|08:00:02.0000000|  2017-10-01|        NULL|   Run For Your Life|06:00:00.0000000|    NULL|                NULL|              NULL|                  NULL|         NULL|     NULL|     NULL|       94|     NULL|\n",
            "|     989604516|        3157|2017-10-01|         2|               NULL|                  NULL|      NULL|              1|             NULL|            NULL|           NULL|              NULL|            20|                NULL|        NULL|00:00:30.0000000|06:20:20.0000000|  2017-10-01|        NULL|15-SPECIALTY CHAN...|06:19:50.0000000|    NULL|                NULL|              NULL|                  NULL|         NULL|     NULL|     NULL|     NULL|     NULL|\n",
            "|     989604517|        3157|2017-10-01|         3|               NULL|                  NULL|      NULL|              1|             NULL|            NULL|           NULL|              NULL|             3|                NULL|        NULL|00:00:15.0000000|06:20:35.0000000|  2017-10-01|        NULL|11-CLOROX CO OF C...|06:20:20.0000000|    NULL|                NULL|              NULL|                  NULL|         NULL|     NULL|     NULL|     NULL|     NULL|\n",
            "|     989604518|        3157|2017-10-01|         4|               NULL|                  NULL|      NULL|              1|             NULL|            NULL|           NULL|              NULL|             3|                NULL|        NULL|00:00:15.0000000|06:20:50.0000000|  2017-10-01|        NULL|11-GLAXOSMITHKLIN...|06:20:35.0000000|    NULL|                NULL|              NULL|                  NULL|         NULL|     NULL|     NULL|     NULL|     NULL|\n",
            "|     989604519|        3157|2017-10-01|         5|               NULL|                  NULL|      NULL|              1|             NULL|            NULL|           NULL|              NULL|             3|                NULL|        NULL|00:00:15.0000000|06:21:05.0000000|  2017-10-01|        NULL|11-KIMBERLY-CLARK...|06:20:50.0000000|    NULL|                NULL|              NULL|                  NULL|         NULL|     NULL|     NULL|     NULL|     NULL|\n",
            "+--------------+------------+----------+----------+-------------------+----------------------+----------+---------------+-----------------+----------------+---------------+------------------+--------------+--------------------+------------+----------------+----------------+------------+------------+--------------------+----------------+--------+--------------------+------------------+----------------------+-------------+---------+---------+---------+---------+\n",
            "only showing top 5 rows\n",
            "\n"
          ]
        }
      ]
    },
    {
      "cell_type": "code",
      "source": [
        "logs.select(\"BroadcastLogID\", \"LogServiceID\", \"LogDate\", \"Duration\").show(5, False)\n",
        "# logs.select(*[F.col(\"BroadCastLogID\"), F.col(\"LogServiceID\"), F.col(\"LogDate\")])"
      ],
      "metadata": {
        "colab": {
          "base_uri": "https://localhost:8080/"
        },
        "id": "ifHRUi2A0Abb",
        "outputId": "51cc43b9-01e0-4d79-c668-45e9c238f26f"
      },
      "execution_count": null,
      "outputs": [
        {
          "output_type": "stream",
          "name": "stdout",
          "text": [
            "+--------------+------------+----------+----------------+\n",
            "|BroadcastLogID|LogServiceID|LogDate   |Duration        |\n",
            "+--------------+------------+----------+----------------+\n",
            "|989604515     |3157        |2017-10-01|02:00:02.0000000|\n",
            "|989604516     |3157        |2017-10-01|00:00:30.0000000|\n",
            "|989604517     |3157        |2017-10-01|00:00:15.0000000|\n",
            "|989604518     |3157        |2017-10-01|00:00:15.0000000|\n",
            "|989604519     |3157        |2017-10-01|00:00:15.0000000|\n",
            "+--------------+------------+----------+----------------+\n",
            "only showing top 5 rows\n",
            "\n"
          ]
        }
      ]
    },
    {
      "cell_type": "code",
      "source": [
        "# import numpy as np\n",
        "\n",
        "\n",
        "# column_split = np.array_split(np.array(logs.columns), len(logs.columns) // 3)\n",
        "\n",
        "# for x in column_split:\n",
        "#     logs.select(*x).show(5, False)"
      ],
      "metadata": {
        "id": "y5-9T0Wg3Ngy"
      },
      "execution_count": null,
      "outputs": []
    },
    {
      "cell_type": "code",
      "source": [
        "import pyspark.sql.functions as F\n",
        "\n",
        "\n",
        "logs.select(\n",
        "    F.col(\"Duration\"),\n",
        "    F.col(\"Duration\").substr(1, 2).cast(\"int\").alias(\"dur_hours\"),\n",
        "    F.col(\"Duration\").substr(4, 2).cast(\"int\").alias(\"dur_minutes\"),\n",
        "    F.col(\"Duration\").substr(7, 2).cast(\"int\").alias(\"dur_seconds\"),\n",
        "# ).show(5)\n",
        ").distinct().show(5)"
      ],
      "metadata": {
        "colab": {
          "base_uri": "https://localhost:8080/"
        },
        "id": "bKkHuVHfHOCi",
        "outputId": "6d6ffa96-f7a8-4313-936a-85f78d7cb566"
      },
      "execution_count": null,
      "outputs": [
        {
          "output_type": "stream",
          "name": "stdout",
          "text": [
            "+----------------+---------+-----------+-----------+\n",
            "|        Duration|dur_hours|dur_minutes|dur_seconds|\n",
            "+----------------+---------+-----------+-----------+\n",
            "|00:08:18.0000000|        0|          8|         18|\n",
            "|00:10:37.0000000|        0|         10|         37|\n",
            "|01:09:08.0000000|        1|          9|          8|\n",
            "|00:26:41.0000000|        0|         26|         41|\n",
            "|00:05:29.0000000|        0|          5|         29|\n",
            "+----------------+---------+-----------+-----------+\n",
            "only showing top 5 rows\n",
            "\n"
          ]
        }
      ]
    },
    {
      "cell_type": "code",
      "source": [
        "logs.select(\n",
        "    F.col(\"Duration\"),\n",
        "    (\n",
        "        F.col(\"Duration\").substr(1, 2).cast(\"int\") * 60 * 60\n",
        "        + F.col(\"Duration\").substr(4, 2).cast(\"int\") * 60\n",
        "        + F.col(\"Duration\").substr(7, 2).cast(\"int\")\n",
        "    ).alias(\"Duration_seconds\"),\n",
        "            ).distinct().show(5)"
      ],
      "metadata": {
        "colab": {
          "base_uri": "https://localhost:8080/"
        },
        "id": "0N9-xLq8MvyN",
        "outputId": "5f677f96-6155-4b0a-cadc-74611125e1cc"
      },
      "execution_count": null,
      "outputs": [
        {
          "output_type": "stream",
          "name": "stdout",
          "text": [
            "+----------------+----------------+\n",
            "|        Duration|Duration_seconds|\n",
            "+----------------+----------------+\n",
            "|00:53:55.0000000|            3235|\n",
            "|00:10:30.0000000|             630|\n",
            "|00:59:08.0000000|            3548|\n",
            "|00:25:52.0000000|            1552|\n",
            "|00:28:08.0000000|            1688|\n",
            "+----------------+----------------+\n",
            "only showing top 5 rows\n",
            "\n"
          ]
        }
      ]
    },
    {
      "cell_type": "code",
      "source": [
        "# WARNING: If you create a column withColumn() and give it a name that\n",
        "# already exists in your data frame, PySpark will happily overwrite the column.\n",
        "\n",
        "logs_seconds = logs.withColumn(\n",
        "    \"Duration_seconds\",\n",
        "     (\n",
        "        F.col(\"Duration\").substr(1, 2).cast(\"int\") * 60 * 60\n",
        "        + F.col(\"Duration\").substr(4, 2).cast(\"int\") * 60\n",
        "        + F.col(\"Duration\").substr(7, 2).cast(\"int\")\n",
        "     ),\n",
        ")\n",
        "\n",
        "# logs = logs.withColumnRenamed(\"Duration_seconds\", \"duration_seconds\")\n",
        "# logs_seconds.toDF(*[x.lower() for x in logs_seconds.columns]).printSchema()\n",
        "\n",
        "logs_seconds = logs_seconds.select(sorted(logs_seconds.columns))\n",
        "logs_seconds.printSchema()\n",
        "logs_seconds.show(5)"
      ],
      "metadata": {
        "colab": {
          "base_uri": "https://localhost:8080/"
        },
        "id": "05BZZ9pOODNp",
        "outputId": "f6d12cea-5814-4869-c075-826856e009da"
      },
      "execution_count": null,
      "outputs": [
        {
          "output_type": "stream",
          "name": "stdout",
          "text": [
            "root\n",
            " |-- AudienceTargetAgeID: integer (nullable = true)\n",
            " |-- AudienceTargetEthnicID: integer (nullable = true)\n",
            " |-- BroadcastLogID: integer (nullable = true)\n",
            " |-- BroadcastOriginPointID: integer (nullable = true)\n",
            " |-- CategoryID: integer (nullable = true)\n",
            " |-- ClosedCaptionID: integer (nullable = true)\n",
            " |-- CompositionID: integer (nullable = true)\n",
            " |-- CountryOfOriginID: integer (nullable = true)\n",
            " |-- DubDramaCreditID: integer (nullable = true)\n",
            " |-- Duration: string (nullable = true)\n",
            " |-- Duration_seconds: integer (nullable = true)\n",
            " |-- EndTime: string (nullable = true)\n",
            " |-- EthnicProgramID: integer (nullable = true)\n",
            " |-- ExhibitionID: integer (nullable = true)\n",
            " |-- FilmClassificationID: integer (nullable = true)\n",
            " |-- Language1: integer (nullable = true)\n",
            " |-- Language2: integer (nullable = true)\n",
            " |-- LogDate: date (nullable = true)\n",
            " |-- LogEntryDate: date (nullable = true)\n",
            " |-- LogServiceID: integer (nullable = true)\n",
            " |-- NetworkAffiliationID: integer (nullable = true)\n",
            " |-- Producer1: string (nullable = true)\n",
            " |-- Producer2: string (nullable = true)\n",
            " |-- ProductionNO: string (nullable = true)\n",
            " |-- ProductionSourceID: integer (nullable = true)\n",
            " |-- ProgramClassID: integer (nullable = true)\n",
            " |-- ProgramTitle: string (nullable = true)\n",
            " |-- SequenceNO: integer (nullable = true)\n",
            " |-- SpecialAttentionID: integer (nullable = true)\n",
            " |-- StartTime: string (nullable = true)\n",
            " |-- Subtitle: string (nullable = true)\n",
            "\n",
            "+-------------------+----------------------+--------------+----------------------+----------+---------------+-------------+-----------------+----------------+----------------+----------------+----------------+---------------+------------+--------------------+---------+---------+----------+------------+------------+--------------------+---------+---------+------------+------------------+--------------+--------------------+----------+------------------+----------------+--------+\n",
            "|AudienceTargetAgeID|AudienceTargetEthnicID|BroadcastLogID|BroadcastOriginPointID|CategoryID|ClosedCaptionID|CompositionID|CountryOfOriginID|DubDramaCreditID|        Duration|Duration_seconds|         EndTime|EthnicProgramID|ExhibitionID|FilmClassificationID|Language1|Language2|   LogDate|LogEntryDate|LogServiceID|NetworkAffiliationID|Producer1|Producer2|ProductionNO|ProductionSourceID|ProgramClassID|        ProgramTitle|SequenceNO|SpecialAttentionID|       StartTime|Subtitle|\n",
            "+-------------------+----------------------+--------------+----------------------+----------+---------------+-------------+-----------------+----------------+----------------+----------------+----------------+---------------+------------+--------------------+---------+---------+----------+------------+------------+--------------------+---------+---------+------------+------------------+--------------+--------------------+----------+------------------+----------------+--------+\n",
            "|                  4|                  NULL|     989604515|                  NULL|        13|              1|         NULL|                3|            NULL|02:00:02.0000000|            7202|08:00:02.0000000|           NULL|           2|                NULL|       94|     NULL|2017-10-01|  2017-10-01|        3157|                NULL|     NULL|     NULL|        NULL|                10|            19|   Run For Your Life|         1|              NULL|06:00:00.0000000|    NULL|\n",
            "|               NULL|                  NULL|     989604516|                  NULL|      NULL|              1|         NULL|             NULL|            NULL|00:00:30.0000000|              30|06:20:20.0000000|           NULL|        NULL|                NULL|     NULL|     NULL|2017-10-01|  2017-10-01|        3157|                NULL|     NULL|     NULL|        NULL|              NULL|            20|15-SPECIALTY CHAN...|         2|              NULL|06:19:50.0000000|    NULL|\n",
            "|               NULL|                  NULL|     989604517|                  NULL|      NULL|              1|         NULL|             NULL|            NULL|00:00:15.0000000|              15|06:20:35.0000000|           NULL|        NULL|                NULL|     NULL|     NULL|2017-10-01|  2017-10-01|        3157|                NULL|     NULL|     NULL|        NULL|              NULL|             3|11-CLOROX CO OF C...|         3|              NULL|06:20:20.0000000|    NULL|\n",
            "|               NULL|                  NULL|     989604518|                  NULL|      NULL|              1|         NULL|             NULL|            NULL|00:00:15.0000000|              15|06:20:50.0000000|           NULL|        NULL|                NULL|     NULL|     NULL|2017-10-01|  2017-10-01|        3157|                NULL|     NULL|     NULL|        NULL|              NULL|             3|11-GLAXOSMITHKLIN...|         4|              NULL|06:20:35.0000000|    NULL|\n",
            "|               NULL|                  NULL|     989604519|                  NULL|      NULL|              1|         NULL|             NULL|            NULL|00:00:15.0000000|              15|06:21:05.0000000|           NULL|        NULL|                NULL|     NULL|     NULL|2017-10-01|  2017-10-01|        3157|                NULL|     NULL|     NULL|        NULL|              NULL|             3|11-KIMBERLY-CLARK...|         5|              NULL|06:20:50.0000000|    NULL|\n",
            "+-------------------+----------------------+--------------+----------------------+----------+---------------+-------------+-----------------+----------------+----------------+----------------+----------------+---------------+------------+--------------------+---------+---------+----------+------------+------------+--------------------+---------+---------+------------+------------------+--------------+--------------------+----------+------------------+----------------+--------+\n",
            "only showing top 5 rows\n",
            "\n"
          ]
        }
      ]
    },
    {
      "cell_type": "code",
      "source": [
        "logs_seconds.select(\"Duration_seconds\").summary().show()"
      ],
      "metadata": {
        "colab": {
          "base_uri": "https://localhost:8080/"
        },
        "id": "rVuMcLfWlPsA",
        "outputId": "8c7d56e9-1cec-4e13-b5f9-145d94d21941"
      },
      "execution_count": null,
      "outputs": [
        {
          "output_type": "stream",
          "name": "stdout",
          "text": [
            "+-------+-----------------+\n",
            "|summary| Duration_seconds|\n",
            "+-------+-----------------+\n",
            "|  count|          7096090|\n",
            "|   mean|133.3823284372098|\n",
            "| stddev|631.7670380125005|\n",
            "|    min|                0|\n",
            "|    25%|               15|\n",
            "|    50%|               30|\n",
            "|    75%|               30|\n",
            "|    max|            86399|\n",
            "+-------+-----------------+\n",
            "\n"
          ]
        }
      ]
    },
    {
      "cell_type": "markdown",
      "source": [
        "## Join Tabels"
      ],
      "metadata": {
        "id": "DXWRji4huzsm"
      }
    },
    {
      "cell_type": "code",
      "source": [
        "print(\"\"\"\n",
        "[LEFT].join(\n",
        "        [RIGHT],\n",
        "        on=[PREDICATES]\n",
        "        how=[METHOD]\n",
        ")\n",
        "\"\"\")"
      ],
      "metadata": {
        "colab": {
          "base_uri": "https://localhost:8080/"
        },
        "id": "u6Wx6fbKZGgo",
        "outputId": "44fe2106-7288-4f5c-fd24-b70007ed759c"
      },
      "execution_count": null,
      "outputs": [
        {
          "output_type": "stream",
          "name": "stdout",
          "text": [
            "\n",
            "[LEFT].join(\n",
            "        [RIGHT],\n",
            "        on=[PREDICATES]\n",
            "        how=[METHOD]\n",
            ")\n",
            "\n"
          ]
        }
      ]
    },
    {
      "cell_type": "code",
      "source": [
        "from pyspark.sql import SparkSession\n",
        "\n",
        "\n",
        "spark = SparkSession.builder.appName(\"Kian_Spark\").getOrCreate()\n",
        "\n",
        "SalesCustomers = spark.read.csv('/content/SalesCustomers.csv',\n",
        "                                header=True,\n",
        "                                inferSchema= True,\n",
        "                                timestampFormat=\"yyyy-MM-dd\",)\n",
        "SalesCustomers.printSchema()\n",
        "SalesCustomers.show(5)\n",
        "\n",
        "SalesOrders = spark.read.csv('/content/SalesOrders.csv',\n",
        "                             header=True,\n",
        "                             inferSchema= True,\n",
        "                             timestampFormat=\"yyyy-MM-dd\",)\n",
        "SalesOrders.printSchema()\n",
        "SalesOrders.show(5)"
      ],
      "metadata": {
        "colab": {
          "base_uri": "https://localhost:8080/"
        },
        "id": "iIbmnSaYtrNo",
        "outputId": "ee65c427-3db4-432e-c692-5ef565df971c"
      },
      "execution_count": 3,
      "outputs": [
        {
          "output_type": "stream",
          "name": "stdout",
          "text": [
            "root\n",
            " |-- custid: integer (nullable = true)\n",
            " |-- companyname: string (nullable = true)\n",
            " |-- contactname: string (nullable = true)\n",
            " |-- contacttitle: string (nullable = true)\n",
            " |-- address: string (nullable = true)\n",
            " |-- city: string (nullable = true)\n",
            " |-- region: string (nullable = true)\n",
            " |-- postalcode: integer (nullable = true)\n",
            " |-- country: string (nullable = true)\n",
            " |-- phone: string (nullable = true)\n",
            " |-- fax: string (nullable = true)\n",
            "\n",
            "+------+--------------+-----------------+--------------------+--------------------+-----------+------+----------+-------+--------------+--------------+\n",
            "|custid|   companyname|      contactname|        contacttitle|             address|       city|region|postalcode|country|         phone|           fax|\n",
            "+------+--------------+-----------------+--------------------+--------------------+-----------+------+----------+-------+--------------+--------------+\n",
            "|     1|Customer NRZBB|   Allen, Michael|Sales Representative|     Obere Str. 0123|     Berlin|  NULL|     10092|Germany|   030-3456789|   030-0123456|\n",
            "|     2|Customer MLTDN|    Hassall, Mark|               Owner|Avda. de la Const...|México D.F.|  NULL|     10077| Mexico|  (5) 789-0123|  (5) 456-7890|\n",
            "|     3|Customer KBUDE|    Peoples, John|               Owner|     Mataderos  7890|México D.F.|  NULL|     10097| Mexico|  (5) 123-4567|          NULL|\n",
            "|     4|Customer HFBZG|   Arndt, Torsten|Sales Representative|    7890 Hanover Sq.|     London|  NULL|     10046|     UK|(171) 456-7890|(171) 456-7891|\n",
            "|     5|Customer HGVLZ|Higginbotham, Tom| Order Administrator|  Berguvsvägen  5678|      Luleå|  NULL|     10112| Sweden| 0921-67 89 01| 0921-23 45 67|\n",
            "+------+--------------+-----------------+--------------------+--------------------+-----------+------+----------+-------+--------------+--------------+\n",
            "only showing top 5 rows\n",
            "\n",
            "root\n",
            " |-- orderid: integer (nullable = true)\n",
            " |-- custid: integer (nullable = true)\n",
            " |-- empid: integer (nullable = true)\n",
            " |-- orderdate: string (nullable = true)\n",
            " |-- requireddate: string (nullable = true)\n",
            " |-- shippeddate: string (nullable = true)\n",
            " |-- shipperid: integer (nullable = true)\n",
            " |-- freight: double (nullable = true)\n",
            " |-- shipname: string (nullable = true)\n",
            " |-- shipaddress: string (nullable = true)\n",
            " |-- shipcity: string (nullable = true)\n",
            " |-- shipregion: string (nullable = true)\n",
            " |-- shippostalcode: integer (nullable = true)\n",
            " |-- shipcountry: string (nullable = true)\n",
            "\n",
            "+-------+------+-----+--------------------+--------------------+--------------------+---------+-------+-----------------+--------------------+--------------+----------+--------------+-----------+\n",
            "|orderid|custid|empid|           orderdate|        requireddate|         shippeddate|shipperid|freight|         shipname|         shipaddress|      shipcity|shipregion|shippostalcode|shipcountry|\n",
            "+-------+------+-----+--------------------+--------------------+--------------------+---------+-------+-----------------+--------------------+--------------+----------+--------------+-----------+\n",
            "|  10248|    85|    5|2006-07-04 00:00:...|2006-08-01 00:00:...|2006-07-16 00:00:...|        3|  32.38|     Ship to 85-B|6789 rue de l'Abbaye|         Reims|      NULL|         10345|     France|\n",
            "|  10249|    79|    6|2006-07-05 00:00:...|2006-08-16 00:00:...|2006-07-10 00:00:...|        1|  11.61|     Ship to 79-C|     Luisenstr. 9012|       Münster|      NULL|         10328|    Germany|\n",
            "|  10250|    34|    4|2006-07-08 00:00:...|2006-08-05 00:00:...|2006-07-12 00:00:...|        2|  65.83|Destination SCQXA|   Rua do Paço, 7890|Rio de Janeiro|        RJ|         10195|     Brazil|\n",
            "|  10251|    84|    3|2006-07-08 00:00:...|2006-08-05 00:00:...|2006-07-15 00:00:...|        1|  41.34|     Ship to 84-A|3456, rue du Comm...|          Lyon|      NULL|         10342|     France|\n",
            "|  10252|    76|    4|2006-07-09 00:00:...|2006-08-06 00:00:...|2006-07-11 00:00:...|        2|   51.3|     Ship to 76-B|Boulevard Tirou, ...|     Charleroi|      NULL|         10318|    Belgium|\n",
            "+-------+------+-----+--------------------+--------------------+--------------------+---------+-------+-----------------+--------------------+--------------+----------+--------------+-----------+\n",
            "only showing top 5 rows\n",
            "\n"
          ]
        }
      ]
    },
    {
      "cell_type": "code",
      "source": [
        "JoinOrderCustomer = SalesOrders.join(\n",
        "        SalesCustomers,\n",
        "        on= 'custid',\n",
        "        how='inner'\n",
        ")\n",
        "\n",
        "JoinOrderCustomer.printSchema()\n",
        "JoinOrderCustomer.show(5)"
      ],
      "metadata": {
        "id": "pQC5sKc80qwM",
        "colab": {
          "base_uri": "https://localhost:8080/"
        },
        "outputId": "348bb1f8-ce70-4cd3-a5a9-bfd0f8c67f33"
      },
      "execution_count": 6,
      "outputs": [
        {
          "output_type": "stream",
          "name": "stdout",
          "text": [
            "root\n",
            " |-- custid: integer (nullable = true)\n",
            " |-- orderid: integer (nullable = true)\n",
            " |-- empid: integer (nullable = true)\n",
            " |-- orderdate: string (nullable = true)\n",
            " |-- requireddate: string (nullable = true)\n",
            " |-- shippeddate: string (nullable = true)\n",
            " |-- shipperid: integer (nullable = true)\n",
            " |-- freight: double (nullable = true)\n",
            " |-- shipname: string (nullable = true)\n",
            " |-- shipaddress: string (nullable = true)\n",
            " |-- shipcity: string (nullable = true)\n",
            " |-- shipregion: string (nullable = true)\n",
            " |-- shippostalcode: integer (nullable = true)\n",
            " |-- shipcountry: string (nullable = true)\n",
            " |-- companyname: string (nullable = true)\n",
            " |-- contactname: string (nullable = true)\n",
            " |-- contacttitle: string (nullable = true)\n",
            " |-- address: string (nullable = true)\n",
            " |-- city: string (nullable = true)\n",
            " |-- region: string (nullable = true)\n",
            " |-- postalcode: integer (nullable = true)\n",
            " |-- country: string (nullable = true)\n",
            " |-- phone: string (nullable = true)\n",
            " |-- fax: string (nullable = true)\n",
            "\n",
            "+------+-------+-----+--------------------+--------------------+--------------------+---------+-------+-----------------+--------------------+--------------+----------+--------------+-----------+--------------+--------------------+------------------+--------------------+--------------+------+----------+-------+-----------------+-----------------+\n",
            "|custid|orderid|empid|           orderdate|        requireddate|         shippeddate|shipperid|freight|         shipname|         shipaddress|      shipcity|shipregion|shippostalcode|shipcountry|   companyname|         contactname|      contacttitle|             address|          city|region|postalcode|country|            phone|              fax|\n",
            "+------+-------+-----+--------------------+--------------------+--------------------+---------+-------+-----------------+--------------------+--------------+----------+--------------+-----------+--------------+--------------------+------------------+--------------------+--------------+------+----------+-------+-----------------+-----------------+\n",
            "|    85|  10248|    5|2006-07-04 00:00:...|2006-08-01 00:00:...|2006-07-16 00:00:...|        3|  32.38|     Ship to 85-B|6789 rue de l'Abbaye|         Reims|      NULL|         10345|     France|Customer ENQZT|       McLin, Nkenge|Accounting Manager|5678 rue de l'Abbaye|         Reims|  NULL|     10082| France|      56.78.90.12|      56.78.90.13|\n",
            "|    79|  10249|    6|2006-07-05 00:00:...|2006-08-16 00:00:...|2006-07-10 00:00:...|        1|  11.61|     Ship to 79-C|     Luisenstr. 9012|       Münster|      NULL|         10328|    Germany|Customer FAPSM|        Wickham, Jim| Marketing Manager|     Luisenstr. 0123|       Münster|  NULL|     10118|Germany|      0251-456789|      0251-012345|\n",
            "|    34|  10250|    4|2006-07-08 00:00:...|2006-08-05 00:00:...|2006-07-12 00:00:...|        2|  65.83|Destination SCQXA|   Rua do Paço, 7890|Rio de Janeiro|        RJ|         10195|     Brazil|Customer IBVRG|          Cohen, Shy|Accounting Manager|   Rua do Paço, 7890|Rio de Janeiro|    RJ|     10076| Brazil|    (21) 789-0123|    (21) 789-0124|\n",
            "|    84|  10251|    3|2006-07-08 00:00:...|2006-08-05 00:00:...|2006-07-15 00:00:...|        1|  41.34|     Ship to 84-A|3456, rue du Comm...|          Lyon|      NULL|         10342|     France|Customer NRCSK|Tuntisangaroon, S...|       Sales Agent|6789, rue du Comm...|          Lyon|  NULL|     10072| France|      78.90.12.34|      78.90.12.35|\n",
            "|    76|  10252|    4|2006-07-09 00:00:...|2006-08-06 00:00:...|2006-07-11 00:00:...|        2|   51.3|     Ship to 76-B|Boulevard Tirou, ...|     Charleroi|      NULL|         10318|    Belgium|Customer SFOGW|      Gulbis, Katrin|Accounting Manager|Boulevard Tirou, ...|     Charleroi|  NULL|     10100|Belgium|(071) 56 78 90 12|(071) 34 56 78 90|\n",
            "+------+-------+-----+--------------------+--------------------+--------------------+---------+-------+-----------------+--------------------+--------------+----------+--------------+-----------+--------------+--------------------+------------------+--------------------+--------------+------+----------+-------+-----------------+-----------------+\n",
            "only showing top 5 rows\n",
            "\n"
          ]
        }
      ]
    },
    {
      "cell_type": "code",
      "source": [
        "import pyspark.sql.functions as F\n",
        "\n",
        "\n",
        "splitOrderCustomer = JoinOrderCustomer.withColumn(\n",
        "    'Fname', F.split('contactname', ', ')[0]).withColumn(\n",
        "        'Lname', F.split('contactname', ', ')[1]).withColumn(\n",
        "                'company', F.split('companyname', ' ')[1]).withColumn(\n",
        "                    'year', F.year(F.to_date('orderdate'))).withColumn(\n",
        "                        'month', F.month(F.to_date('orderdate')))\n",
        "\n",
        "splitOrderCustomer.show(5)"
      ],
      "metadata": {
        "colab": {
          "base_uri": "https://localhost:8080/"
        },
        "id": "qudYlTmb3Oga",
        "outputId": "49551277-5ec1-4f29-eba0-482d5e1137a7"
      },
      "execution_count": 28,
      "outputs": [
        {
          "output_type": "stream",
          "name": "stdout",
          "text": [
            "+------+-------+-----+--------------------+--------------------+--------------------+---------+-------+-----------------+--------------------+--------------+----------+--------------+-----------+--------------+--------------------+------------------+--------------------+--------------+------+----------+-------+-----------------+-----------------+--------------+---------+-------+----+-----+\n",
            "|custid|orderid|empid|           orderdate|        requireddate|         shippeddate|shipperid|freight|         shipname|         shipaddress|      shipcity|shipregion|shippostalcode|shipcountry|   companyname|         contactname|      contacttitle|             address|          city|region|postalcode|country|            phone|              fax|         Fname|    Lname|company|year|month|\n",
            "+------+-------+-----+--------------------+--------------------+--------------------+---------+-------+-----------------+--------------------+--------------+----------+--------------+-----------+--------------+--------------------+------------------+--------------------+--------------+------+----------+-------+-----------------+-----------------+--------------+---------+-------+----+-----+\n",
            "|    85|  10248|    5|2006-07-04 00:00:...|2006-08-01 00:00:...|2006-07-16 00:00:...|        3|  32.38|     Ship to 85-B|6789 rue de l'Abbaye|         Reims|      NULL|         10345|     France|Customer ENQZT|       McLin, Nkenge|Accounting Manager|5678 rue de l'Abbaye|         Reims|  NULL|     10082| France|      56.78.90.12|      56.78.90.13|         McLin|   Nkenge|  ENQZT|2006|    7|\n",
            "|    79|  10249|    6|2006-07-05 00:00:...|2006-08-16 00:00:...|2006-07-10 00:00:...|        1|  11.61|     Ship to 79-C|     Luisenstr. 9012|       Münster|      NULL|         10328|    Germany|Customer FAPSM|        Wickham, Jim| Marketing Manager|     Luisenstr. 0123|       Münster|  NULL|     10118|Germany|      0251-456789|      0251-012345|       Wickham|      Jim|  FAPSM|2006|    7|\n",
            "|    34|  10250|    4|2006-07-08 00:00:...|2006-08-05 00:00:...|2006-07-12 00:00:...|        2|  65.83|Destination SCQXA|   Rua do Paço, 7890|Rio de Janeiro|        RJ|         10195|     Brazil|Customer IBVRG|          Cohen, Shy|Accounting Manager|   Rua do Paço, 7890|Rio de Janeiro|    RJ|     10076| Brazil|    (21) 789-0123|    (21) 789-0124|         Cohen|      Shy|  IBVRG|2006|    7|\n",
            "|    84|  10251|    3|2006-07-08 00:00:...|2006-08-05 00:00:...|2006-07-15 00:00:...|        1|  41.34|     Ship to 84-A|3456, rue du Comm...|          Lyon|      NULL|         10342|     France|Customer NRCSK|Tuntisangaroon, S...|       Sales Agent|6789, rue du Comm...|          Lyon|  NULL|     10072| France|      78.90.12.34|      78.90.12.35|Tuntisangaroon|Sittichai|  NRCSK|2006|    7|\n",
            "|    76|  10252|    4|2006-07-09 00:00:...|2006-08-06 00:00:...|2006-07-11 00:00:...|        2|   51.3|     Ship to 76-B|Boulevard Tirou, ...|     Charleroi|      NULL|         10318|    Belgium|Customer SFOGW|      Gulbis, Katrin|Accounting Manager|Boulevard Tirou, ...|     Charleroi|  NULL|     10100|Belgium|(071) 56 78 90 12|(071) 34 56 78 90|        Gulbis|   Katrin|  SFOGW|2006|    7|\n",
            "+------+-------+-----+--------------------+--------------------+--------------------+---------+-------+-----------------+--------------------+--------------+----------+--------------+-----------+--------------+--------------------+------------------+--------------------+--------------+------+----------+-------+-----------------+-----------------+--------------+---------+-------+----+-----+\n",
            "only showing top 5 rows\n",
            "\n"
          ]
        }
      ]
    },
    {
      "cell_type": "code",
      "source": [
        "selectData = splitOrderCustomer.select(\"Fname\", \"Lname\", \"phone\", \"country\", \"city\", \"freight\", \"company\", \"year\", \"month\")\n",
        "selectData.printSchema()\n",
        "selectData.show(5)"
      ],
      "metadata": {
        "colab": {
          "base_uri": "https://localhost:8080/"
        },
        "id": "dQD5ViDbMUMd",
        "outputId": "56c51657-882c-415f-f089-9b158c591b0c"
      },
      "execution_count": 31,
      "outputs": [
        {
          "output_type": "stream",
          "name": "stdout",
          "text": [
            "root\n",
            " |-- Fname: string (nullable = true)\n",
            " |-- Lname: string (nullable = true)\n",
            " |-- phone: string (nullable = true)\n",
            " |-- country: string (nullable = true)\n",
            " |-- city: string (nullable = true)\n",
            " |-- freight: double (nullable = true)\n",
            " |-- company: string (nullable = true)\n",
            " |-- year: integer (nullable = true)\n",
            " |-- month: integer (nullable = true)\n",
            "\n",
            "+--------------+---------+-----------------+-------+--------------+-------+-------+----+-----+\n",
            "|         Fname|    Lname|            phone|country|          city|freight|company|year|month|\n",
            "+--------------+---------+-----------------+-------+--------------+-------+-------+----+-----+\n",
            "|         McLin|   Nkenge|      56.78.90.12| France|         Reims|  32.38|  ENQZT|2006|    7|\n",
            "|       Wickham|      Jim|      0251-456789|Germany|       Münster|  11.61|  FAPSM|2006|    7|\n",
            "|         Cohen|      Shy|    (21) 789-0123| Brazil|Rio de Janeiro|  65.83|  IBVRG|2006|    7|\n",
            "|Tuntisangaroon|Sittichai|      78.90.12.34| France|          Lyon|  41.34|  NRCSK|2006|    7|\n",
            "|        Gulbis|   Katrin|(071) 56 78 90 12|Belgium|     Charleroi|   51.3|  SFOGW|2006|    7|\n",
            "+--------------+---------+-----------------+-------+--------------+-------+-------+----+-----+\n",
            "only showing top 5 rows\n",
            "\n"
          ]
        }
      ]
    }
  ]
}